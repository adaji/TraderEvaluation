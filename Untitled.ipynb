{
 "cells": [
  {
   "cell_type": "code",
   "execution_count": 1,
   "id": "cb4694c6",
   "metadata": {
    "ExecuteTime": {
     "end_time": "2022-05-20T17:25:09.842200Z",
     "start_time": "2022-05-20T17:25:09.049742Z"
    }
   },
   "outputs": [],
   "source": [
    "import pandas as pd \n",
    "import numpy as np \n",
    "from Data_Operation import Market_Data , Preparation , Comput_pipV , Cal_volatil \n",
    "from Evaluation_Attributes import Duration\n",
    "import requests\n",
    "from os import getenv"
   ]
  },
  {
   "cell_type": "code",
   "execution_count": 35,
   "id": "489d8609",
   "metadata": {},
   "outputs": [],
   "source": [
    "Url='http://135.181.53.203:8010/dfo_alpha_marketevaluation/cal_volatil'\n",
    "param = {\n",
    "    \"base_currency\":'AUDUSD',\n",
    "    \"pair_currency\":'GBPUSD',\n",
    "    \"startdate\":pd.Timestamp('2021-01-04 12:00:00.000').isoformat() + 'Z',\n",
    "    \"enddate\":pd.Timestamp('2021-01-06 12:00:00.000').isoformat() + 'Z',\n",
    "    \"apicode\" : str(getenv(\"ApiCode\")),\n",
    "    \"hashcode\" : str(getenv(\"HashCode\"))\n",
    "}"
   ]
  },
  {
   "cell_type": "code",
   "execution_count": 36,
   "id": "434e4133",
   "metadata": {},
   "outputs": [],
   "source": [
    "ppv = requests.post(url=Url,json=param)"
   ]
  },
  {
   "cell_type": "code",
   "execution_count": 38,
   "id": "d9fd69ff",
   "metadata": {},
   "outputs": [
    {
     "data": {
      "text/plain": [
       "0.4964"
      ]
     },
     "execution_count": 38,
     "metadata": {},
     "output_type": "execute_result"
    }
   ],
   "source": [
    "ppv.json()['value']"
   ]
  },
  {
   "cell_type": "code",
   "execution_count": 7,
   "id": "fb28b549",
   "metadata": {
    "ExecuteTime": {
     "end_time": "2022-05-20T17:25:12.402834Z",
     "start_time": "2022-05-20T17:25:11.806311Z"
    }
   },
   "outputs": [],
   "source": [
    "test_frame = Preparation('Test_trader_data').Get"
   ]
  },
  {
   "cell_type": "code",
   "execution_count": 8,
   "id": "c417556c",
   "metadata": {
    "ExecuteTime": {
     "end_time": "2022-05-20T17:25:13.964638Z",
     "start_time": "2022-05-20T17:25:13.296762Z"
    }
   },
   "outputs": [
    {
     "data": {
      "text/html": [
       "<div>\n",
       "<style scoped>\n",
       "    .dataframe tbody tr th:only-of-type {\n",
       "        vertical-align: middle;\n",
       "    }\n",
       "\n",
       "    .dataframe tbody tr th {\n",
       "        vertical-align: top;\n",
       "    }\n",
       "\n",
       "    .dataframe thead th {\n",
       "        text-align: right;\n",
       "    }\n",
       "</style>\n",
       "<table border=\"1\" class=\"dataframe\">\n",
       "  <thead>\n",
       "    <tr style=\"text-align: right;\">\n",
       "      <th></th>\n",
       "      <th>Time</th>\n",
       "      <th>Time</th>\n",
       "      <th>Symbol</th>\n",
       "      <th>Volume</th>\n",
       "      <th>Balance</th>\n",
       "      <th>Price</th>\n",
       "      <th>Price</th>\n",
       "    </tr>\n",
       "  </thead>\n",
       "  <tbody>\n",
       "    <tr>\n",
       "      <th>2</th>\n",
       "      <td>2021-02-01 02:40:01</td>\n",
       "      <td>2021-02-01 09:03:27</td>\n",
       "      <td>EURUSD</td>\n",
       "      <td>7000.0</td>\n",
       "      <td>24000.00</td>\n",
       "      <td>1.21305</td>\n",
       "      <td>1.21194</td>\n",
       "    </tr>\n",
       "    <tr>\n",
       "      <th>3</th>\n",
       "      <td>2021-02-01 09:05:02</td>\n",
       "      <td>2021-02-01 09:29:44</td>\n",
       "      <td>EURUSD</td>\n",
       "      <td>7000.0</td>\n",
       "      <td>24007.77</td>\n",
       "      <td>1.21239</td>\n",
       "      <td>1.21131</td>\n",
       "    </tr>\n",
       "    <tr>\n",
       "      <th>4</th>\n",
       "      <td>2021-02-01 09:30:02</td>\n",
       "      <td>2021-02-01 09:50:39</td>\n",
       "      <td>EURUSD</td>\n",
       "      <td>7000.0</td>\n",
       "      <td>24015.33</td>\n",
       "      <td>1.21137</td>\n",
       "      <td>1.21026</td>\n",
       "    </tr>\n",
       "    <tr>\n",
       "      <th>5</th>\n",
       "      <td>2021-02-01 09:55:02</td>\n",
       "      <td>2021-02-01 09:59:15</td>\n",
       "      <td>EURUSD</td>\n",
       "      <td>7000.0</td>\n",
       "      <td>24023.10</td>\n",
       "      <td>1.21022</td>\n",
       "      <td>1.20910</td>\n",
       "    </tr>\n",
       "    <tr>\n",
       "      <th>6</th>\n",
       "      <td>2021-02-01 02:35:02</td>\n",
       "      <td>2021-02-01 10:35:23</td>\n",
       "      <td>EURUSD</td>\n",
       "      <td>7000.0</td>\n",
       "      <td>24030.94</td>\n",
       "      <td>1.21322</td>\n",
       "      <td>1.21027</td>\n",
       "    </tr>\n",
       "    <tr>\n",
       "      <th>...</th>\n",
       "      <td>...</td>\n",
       "      <td>...</td>\n",
       "      <td>...</td>\n",
       "      <td>...</td>\n",
       "      <td>...</td>\n",
       "      <td>...</td>\n",
       "      <td>...</td>\n",
       "    </tr>\n",
       "    <tr>\n",
       "      <th>6684</th>\n",
       "      <td>2022-04-08 10:15:02</td>\n",
       "      <td>2022-04-08 11:04:46</td>\n",
       "      <td>EURUSD</td>\n",
       "      <td>6000.0</td>\n",
       "      <td>32424.26</td>\n",
       "      <td>1.08751</td>\n",
       "      <td>1.08726</td>\n",
       "    </tr>\n",
       "    <tr>\n",
       "      <th>6685</th>\n",
       "      <td>2022-04-08 10:35:02</td>\n",
       "      <td>2022-04-08 11:04:46</td>\n",
       "      <td>EURUSD</td>\n",
       "      <td>12000.0</td>\n",
       "      <td>32422.76</td>\n",
       "      <td>1.08647</td>\n",
       "      <td>1.08726</td>\n",
       "    </tr>\n",
       "    <tr>\n",
       "      <th>6686</th>\n",
       "      <td>2022-04-08 09:45:01</td>\n",
       "      <td>2022-04-08 11:43:14</td>\n",
       "      <td>AUDNZD</td>\n",
       "      <td>6000.0</td>\n",
       "      <td>32432.24</td>\n",
       "      <td>1.08797</td>\n",
       "      <td>1.08856</td>\n",
       "    </tr>\n",
       "    <tr>\n",
       "      <th>6687</th>\n",
       "      <td>2022-04-08 11:05:02</td>\n",
       "      <td>2022-04-08 12:09:33</td>\n",
       "      <td>EURUSD</td>\n",
       "      <td>6000.0</td>\n",
       "      <td>32434.70</td>\n",
       "      <td>1.08732</td>\n",
       "      <td>1.08662</td>\n",
       "    </tr>\n",
       "    <tr>\n",
       "      <th>6688</th>\n",
       "      <td>2022-04-08 10:30:03</td>\n",
       "      <td>2022-04-08 12:09:34</td>\n",
       "      <td>EURUSD</td>\n",
       "      <td>6000.0</td>\n",
       "      <td>32430.50</td>\n",
       "      <td>1.08675</td>\n",
       "      <td>1.08663</td>\n",
       "    </tr>\n",
       "  </tbody>\n",
       "</table>\n",
       "<p>6675 rows × 7 columns</p>\n",
       "</div>"
      ],
      "text/plain": [
       "                    Time                Time  Symbol   Volume   Balance  \\\n",
       "2    2021-02-01 02:40:01 2021-02-01 09:03:27  EURUSD   7000.0  24000.00   \n",
       "3    2021-02-01 09:05:02 2021-02-01 09:29:44  EURUSD   7000.0  24007.77   \n",
       "4    2021-02-01 09:30:02 2021-02-01 09:50:39  EURUSD   7000.0  24015.33   \n",
       "5    2021-02-01 09:55:02 2021-02-01 09:59:15  EURUSD   7000.0  24023.10   \n",
       "6    2021-02-01 02:35:02 2021-02-01 10:35:23  EURUSD   7000.0  24030.94   \n",
       "...                  ...                 ...     ...      ...       ...   \n",
       "6684 2022-04-08 10:15:02 2022-04-08 11:04:46  EURUSD   6000.0  32424.26   \n",
       "6685 2022-04-08 10:35:02 2022-04-08 11:04:46  EURUSD  12000.0  32422.76   \n",
       "6686 2022-04-08 09:45:01 2022-04-08 11:43:14  AUDNZD   6000.0  32432.24   \n",
       "6687 2022-04-08 11:05:02 2022-04-08 12:09:33  EURUSD   6000.0  32434.70   \n",
       "6688 2022-04-08 10:30:03 2022-04-08 12:09:34  EURUSD   6000.0  32430.50   \n",
       "\n",
       "        Price    Price  \n",
       "2     1.21305  1.21194  \n",
       "3     1.21239  1.21131  \n",
       "4     1.21137  1.21026  \n",
       "5     1.21022  1.20910  \n",
       "6     1.21322  1.21027  \n",
       "...       ...      ...  \n",
       "6684  1.08751  1.08726  \n",
       "6685  1.08647  1.08726  \n",
       "6686  1.08797  1.08856  \n",
       "6687  1.08732  1.08662  \n",
       "6688  1.08675  1.08663  \n",
       "\n",
       "[6675 rows x 7 columns]"
      ]
     },
     "execution_count": 8,
     "metadata": {},
     "output_type": "execute_result"
    }
   ],
   "source": [
    "test_frame = Preparation('Test_trader_data').Get\n",
    "test_frame['Balance'] = test_frame['Profit'].cumsum().shift()\n",
    "important_data = test_frame.loc[:,['Time','Symbol','Volume','Balance','Price']].applymap(\n",
    "lambda x : np.nan if x == 0 else x\n",
    ").dropna()\n",
    "important_data.loc[:,'Volume'] = important_data.loc[:,'Volume'] * 100000\n",
    "important_data"
   ]
  },
  {
   "cell_type": "code",
   "execution_count": null,
   "id": "2fdcdbb6",
   "metadata": {
    "ExecuteTime": {
     "start_time": "2022-05-18T15:24:36.419Z"
    },
    "scrolled": true
   },
   "outputs": [],
   "source": [
    "DLD_frame = pd.DataFrame(\n",
    "    np.zeros([important_data.shape[0],2]),\n",
    "    columns=['D-Leverage','Position Duration']\n",
    ")\n",
    "\n",
    "for roW in np.arange(0,important_data.shape[0]):\n",
    "    DLD_frame.loc[:,'D-Leverage'].iloc[roW] = (\n",
    "        ((important_data.iloc[roW,:]['Volume'] * important_data.iloc[roW,:]['Price'][0]) * (\n",
    "            Comput_pipV(\n",
    "                Pair_Currency = important_data.iloc[roW,:]['Symbol'],\n",
    "                Target_time= important_data.iloc[roW,:]['Time'][0]\n",
    "            )\n",
    "        )) * (\n",
    "            Cal_volatil(\n",
    "                Pair_Currency=important_data.iloc[roW,:]['Symbol'],\n",
    "                Open_Posithon_TimeStamp=important_data.iloc[roW,:]['Time'][0],\n",
    "                Close_Posithon_TimStamp=important_data.iloc[roW,:]['Time'][1]\n",
    "            )\n",
    "        ) \n",
    "    )"
   ]
  },
  {
   "cell_type": "code",
   "execution_count": 11,
   "id": "9673116f",
   "metadata": {
    "ExecuteTime": {
     "end_time": "2022-05-20T17:59:13.737080Z",
     "start_time": "2022-05-20T17:59:13.717096Z"
    }
   },
   "outputs": [
    {
     "data": {
      "text/plain": [
       "'2021-02-01T09:25:03'"
      ]
     },
     "execution_count": 11,
     "metadata": {},
     "output_type": "execute_result"
    }
   ],
   "source": [
    "important_data.iloc[5,:]['Time'][0].isoformat()"
   ]
  },
  {
   "cell_type": "code",
   "execution_count": 4,
   "id": "47785c49",
   "metadata": {
    "ExecuteTime": {
     "end_time": "2022-05-20T17:19:56.854309Z",
     "start_time": "2022-05-20T17:19:56.845902Z"
    }
   },
   "outputs": [
    {
     "data": {
      "text/plain": [
       "True"
      ]
     },
     "execution_count": 4,
     "metadata": {},
     "output_type": "execute_result"
    }
   ],
   "source": [
    "import numpy as np\n",
    "import pandas as pd \n",
    "import requests \n",
    "from dotenv import load_dotenv\n",
    "from os import getenv\n",
    "load_dotenv()"
   ]
  },
  {
   "cell_type": "code",
   "execution_count": 26,
   "id": "16f8f9da",
   "metadata": {
    "ExecuteTime": {
     "end_time": "2022-05-20T19:40:21.372764Z",
     "start_time": "2022-05-20T19:40:21.366259Z"
    }
   },
   "outputs": [
    {
     "data": {
      "text/plain": [
       "'EURUSD'"
      ]
     },
     "execution_count": 26,
     "metadata": {},
     "output_type": "execute_result"
    }
   ],
   "source": [
    "important_data.iloc[5,:]['Symbol']"
   ]
  },
  {
   "cell_type": "code",
   "execution_count": 32,
   "id": "d4d9c5be",
   "metadata": {
    "ExecuteTime": {
     "end_time": "2022-05-20T19:41:16.888982Z",
     "start_time": "2022-05-20T19:41:16.880947Z"
    }
   },
   "outputs": [],
   "source": [
    "url = 'http://135.181.53.203:8010/dfo_alpha_open_close_strategy'\n",
    "\n",
    "param = {\n",
    "    \"startdate\": important_data.iloc[5,:]['Time'][0].isoformat() + 'Z',\n",
    "    \"enddate\": important_data.iloc[5,:]['Time'][1].isoformat() + 'Z',\n",
    "    \"instrument\": 'AUDUSD',\n",
    "    \"apicode\" : str(getenv(\"ApiCode\")),\n",
    "    \"hashcode\" : str(getenv(\"HashCode\"))\n",
    "}"
   ]
  },
  {
   "cell_type": "code",
   "execution_count": 33,
   "id": "82e5e68c",
   "metadata": {
    "ExecuteTime": {
     "end_time": "2022-05-20T19:41:37.402019Z",
     "start_time": "2022-05-20T19:41:18.913926Z"
    }
   },
   "outputs": [],
   "source": [
    "srp = requests.post(url=url,json=param)"
   ]
  },
  {
   "cell_type": "code",
   "execution_count": 35,
   "id": "3bcd36f7",
   "metadata": {
    "ExecuteTime": {
     "end_time": "2022-05-20T19:41:58.217899Z",
     "start_time": "2022-05-20T19:41:58.211152Z"
    },
    "scrolled": true
   },
   "outputs": [
    {
     "data": {
      "text/plain": [
       "[{'candlewindow': '-50% (start)',\n",
       "  'utctime': '2021-02-01T08:50:00',\n",
       "  'close': 0.76349},\n",
       " {'candlewindow': '-40% (start)',\n",
       "  'utctime': '2021-02-01T08:57:00',\n",
       "  'close': 0.76303},\n",
       " {'candlewindow': '-30% (start)',\n",
       "  'utctime': '2021-02-01T09:04:00',\n",
       "  'close': 0.76326},\n",
       " {'candlewindow': '-20% (start)',\n",
       "  'utctime': '2021-02-01T09:11:00',\n",
       "  'close': 0.76349},\n",
       " {'candlewindow': '-10% (start)',\n",
       "  'utctime': '2021-02-01T09:18:00',\n",
       "  'close': 0.7639},\n",
       " {'candlewindow': '(start)',\n",
       "  'utctime': '2021-02-01T09:25:00',\n",
       "  'close': 0.76367},\n",
       " {'candlewindow': '+10% (start)',\n",
       "  'utctime': '2021-02-01T09:32:00',\n",
       "  'close': 0.76427},\n",
       " {'candlewindow': '+20% (start)',\n",
       "  'utctime': '2021-02-01T09:39:00',\n",
       "  'close': 0.7642},\n",
       " {'candlewindow': '+30% (start)',\n",
       "  'utctime': '2021-02-01T09:46:00',\n",
       "  'close': 0.76408},\n",
       " {'candlewindow': '+40% (start)',\n",
       "  'utctime': '2021-02-01T09:53:00',\n",
       "  'close': 0.76407},\n",
       " {'candlewindow': '+50% (start)',\n",
       "  'utctime': '2021-02-01T10:00:00',\n",
       "  'close': 0.76377},\n",
       " {'candlewindow': '-50% (end)',\n",
       "  'utctime': '2021-02-01T10:00:00',\n",
       "  'close': 0.76377},\n",
       " {'candlewindow': '-40% (end)',\n",
       "  'utctime': '2021-02-01T10:07:00',\n",
       "  'close': 0.76349},\n",
       " {'candlewindow': '-30% (end)',\n",
       "  'utctime': '2021-02-01T10:14:00',\n",
       "  'close': 0.76356},\n",
       " {'candlewindow': '-20% (end)',\n",
       "  'utctime': '2021-02-01T10:21:00',\n",
       "  'close': 0.76332},\n",
       " {'candlewindow': '-10% (end)',\n",
       "  'utctime': '2021-02-01T10:28:00',\n",
       "  'close': 0.76319},\n",
       " {'candlewindow': '(end)', 'utctime': '2021-02-01T10:35:00', 'close': 0.76269},\n",
       " {'candlewindow': '+10% (end)',\n",
       "  'utctime': '2021-02-01T10:42:00',\n",
       "  'close': 0.76227},\n",
       " {'candlewindow': '+20% (end)',\n",
       "  'utctime': '2021-02-01T10:49:00',\n",
       "  'close': 0.7626},\n",
       " {'candlewindow': '+30% (end)',\n",
       "  'utctime': '2021-02-01T10:56:00',\n",
       "  'close': 0.7625},\n",
       " {'candlewindow': '+40% (end)',\n",
       "  'utctime': '2021-02-01T11:03:00',\n",
       "  'close': 0.76284},\n",
       " {'candlewindow': '+50% (end)',\n",
       "  'utctime': '2021-02-01T11:10:00',\n",
       "  'close': 0.76291}]"
      ]
     },
     "execution_count": 35,
     "metadata": {},
     "output_type": "execute_result"
    }
   ],
   "source": [
    "srp.json()['data']"
   ]
  }
 ],
 "metadata": {
  "interpreter": {
   "hash": "b49a179447c713102a86e48951e79ee67e3e2437390edf611bc6f09fb413f32f"
  },
  "kernelspec": {
   "display_name": "Python 3 (ipykernel)",
   "language": "python",
   "name": "python3"
  },
  "language_info": {
   "codemirror_mode": {
    "name": "ipython",
    "version": 3
   },
   "file_extension": ".py",
   "mimetype": "text/x-python",
   "name": "python",
   "nbconvert_exporter": "python",
   "pygments_lexer": "ipython3",
   "version": "3.8.13"
  },
  "nbTranslate": {
   "displayLangs": [
    "*"
   ],
   "hotkey": "alt-t",
   "langInMainMenu": true,
   "sourceLang": "en",
   "targetLang": "fr",
   "useGoogleTranslate": true
  },
  "varInspector": {
   "cols": {
    "lenName": 16,
    "lenType": 16,
    "lenVar": 40
   },
   "kernels_config": {
    "python": {
     "delete_cmd_postfix": "",
     "delete_cmd_prefix": "del ",
     "library": "var_list.py",
     "varRefreshCmd": "print(var_dic_list())"
    },
    "r": {
     "delete_cmd_postfix": ") ",
     "delete_cmd_prefix": "rm(",
     "library": "var_list.r",
     "varRefreshCmd": "cat(var_dic_list()) "
    }
   },
   "types_to_exclude": [
    "module",
    "function",
    "builtin_function_or_method",
    "instance",
    "_Feature"
   ],
   "window_display": false
  }
 },
 "nbformat": 4,
 "nbformat_minor": 5
}
