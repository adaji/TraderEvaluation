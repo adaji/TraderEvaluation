{
 "cells": [
  {
   "cell_type": "code",
   "execution_count": 1,
   "id": "8129e52e",
   "metadata": {
    "ExecuteTime": {
     "end_time": "2022-05-18T14:28:06.502953Z",
     "start_time": "2022-05-18T14:28:06.484689Z"
    },
    "lang": "en"
   },
   "outputs": [],
   "source": [
    "import pandas as pd \n",
    "import numpy as np \n",
    "from Data_Operation import Market_Data , Preparation , Comput_pipV\n",
    "from Evaluation_Attributes import Duration"
   ]
  },
  {
   "cell_type": "code",
   "execution_count": 9,
   "id": "f6ecbb58",
   "metadata": {},
   "outputs": [
    {
     "data": {
      "text/plain": [
       "nan"
      ]
     },
     "execution_count": 9,
     "metadata": {},
     "output_type": "execute_result"
    }
   ],
   "source": [
    "Market_Data(\n",
    "    Symbol='GBPUSD',\n",
    "    Start_Date=pd.Timestamp('2021-01-04 12:00:00.000').isoformat(),\n",
    "    End_Data=pd.Timestamp('2021-01-04 12:00:00.000').isoformat()\n",
    ").send_post_request"
   ]
  },
  {
   "cell_type": "code",
   "execution_count": null,
   "id": "7b376edb",
   "metadata": {},
   "outputs": [],
   "source": []
  },
  {
   "cell_type": "code",
   "execution_count": 10,
   "id": "e4dddb5b",
   "metadata": {},
   "outputs": [
    {
     "data": {
      "text/plain": [
       "0.77223"
      ]
     },
     "execution_count": 10,
     "metadata": {},
     "output_type": "execute_result"
    }
   ],
   "source": [
    "Comput_pipV(\n",
    "    Base_Currency='USD',\n",
    "    Pair_Currency='AUDUSD',\n",
    "    Target_time=pd.Timestamp('2021-01-04 12:00:00.000')\n",
    ")"
   ]
  },
  {
   "cell_type": "code",
   "execution_count": 2,
   "id": "d224f62a",
   "metadata": {},
   "outputs": [],
   "source": [
    "def Cal_volatil(\n",
    "    *,Base_Pair_Currency:str ='AUDUSD',\n",
    "    Pair_Currency:str,\n",
    "    Open_Posithon_TimeStamp,\n",
    "    Close_Posithon_TimStamp)-> float:\n",
    "\n",
    "    return float(\n",
    "        (\n",
    "            Market_Data(\n",
    "                Symbol = Pair_Currency,\n",
    "                Start_Date = Open_Posithon_TimeStamp.isoformat(),\n",
    "                End_Data = Close_Posithon_TimStamp.isoformat(),\n",
    "                Interval = '1min'\n",
    "            ).send_post_request.loc[:,'close'].pct_change().dropna().std()\n",
    "        ) / (\n",
    "            Market_Data(\n",
    "                Symbol = Base_Pair_Currency,\n",
    "                Start_Date = Open_Posithon_TimeStamp.isoformat(),\n",
    "                End_Data = Close_Posithon_TimStamp.isoformat(),\n",
    "                Interval = '1min'\n",
    "            ).send_post_request.loc[:,'close'].pct_change().dropna().std()\n",
    "        )\n",
    "    )"
   ]
  },
  {
   "cell_type": "code",
   "execution_count": 16,
   "id": "9c82e53e",
   "metadata": {},
   "outputs": [
    {
     "data": {
      "text/plain": [
       "0.8152627628641889"
      ]
     },
     "execution_count": 16,
     "metadata": {},
     "output_type": "execute_result"
    }
   ],
   "source": [
    "Cal_volatil(\n",
    "    Pair_Currency='NZDCAD',\n",
    "    Open_Posithon_TimeStamp=pd.Timestamp('2021-01-04 12:00:00.000'),\n",
    "    Close_Posithon_TimStamp=pd.Timestamp('2021-01-05 12:00:00.000')\n",
    ")"
   ]
  },
  {
   "cell_type": "code",
   "execution_count": 3,
   "id": "44f46ed0",
   "metadata": {
    "ExecuteTime": {
     "end_time": "2022-05-18T15:05:27.166326Z",
     "start_time": "2022-05-18T15:05:26.600542Z"
    }
   },
   "outputs": [
    {
     "data": {
      "text/html": [
       "<div>\n",
       "<style scoped>\n",
       "    .dataframe tbody tr th:only-of-type {\n",
       "        vertical-align: middle;\n",
       "    }\n",
       "\n",
       "    .dataframe tbody tr th {\n",
       "        vertical-align: top;\n",
       "    }\n",
       "\n",
       "    .dataframe thead th {\n",
       "        text-align: right;\n",
       "    }\n",
       "</style>\n",
       "<table border=\"1\" class=\"dataframe\">\n",
       "  <thead>\n",
       "    <tr style=\"text-align: right;\">\n",
       "      <th></th>\n",
       "      <th>Time</th>\n",
       "      <th>Time</th>\n",
       "      <th>Symbol</th>\n",
       "      <th>Volume</th>\n",
       "      <th>Balance</th>\n",
       "      <th>Price</th>\n",
       "      <th>Price</th>\n",
       "    </tr>\n",
       "  </thead>\n",
       "  <tbody>\n",
       "    <tr>\n",
       "      <th>2</th>\n",
       "      <td>2020-07-15 16:45:00</td>\n",
       "      <td>2020-07-15 17:40:23</td>\n",
       "      <td>AUDCAD</td>\n",
       "      <td>1000.0</td>\n",
       "      <td>400.94</td>\n",
       "      <td>0.95411</td>\n",
       "      <td>0.95145</td>\n",
       "    </tr>\n",
       "    <tr>\n",
       "      <th>3</th>\n",
       "      <td>2020-07-15 16:30:00</td>\n",
       "      <td>2020-07-15 18:04:46</td>\n",
       "      <td>AUDCAD</td>\n",
       "      <td>1000.0</td>\n",
       "      <td>402.90</td>\n",
       "      <td>0.95379</td>\n",
       "      <td>0.94973</td>\n",
       "    </tr>\n",
       "    <tr>\n",
       "      <th>4</th>\n",
       "      <td>2020-07-15 16:30:00</td>\n",
       "      <td>2020-07-15 18:04:50</td>\n",
       "      <td>AUDCAD</td>\n",
       "      <td>1000.0</td>\n",
       "      <td>405.90</td>\n",
       "      <td>0.95377</td>\n",
       "      <td>0.94966</td>\n",
       "    </tr>\n",
       "    <tr>\n",
       "      <th>5</th>\n",
       "      <td>2020-07-15 16:30:00</td>\n",
       "      <td>2020-07-15 18:07:53</td>\n",
       "      <td>AUDCAD</td>\n",
       "      <td>1000.0</td>\n",
       "      <td>408.94</td>\n",
       "      <td>0.95375</td>\n",
       "      <td>0.94942</td>\n",
       "    </tr>\n",
       "    <tr>\n",
       "      <th>6</th>\n",
       "      <td>2020-07-15 16:30:00</td>\n",
       "      <td>2020-07-15 18:15:00</td>\n",
       "      <td>AUDCAD</td>\n",
       "      <td>1000.0</td>\n",
       "      <td>412.14</td>\n",
       "      <td>0.95375</td>\n",
       "      <td>0.94916</td>\n",
       "    </tr>\n",
       "  </tbody>\n",
       "</table>\n",
       "</div>"
      ],
      "text/plain": [
       "                 Time                Time  Symbol  Volume  Balance    Price  \\\n",
       "2 2020-07-15 16:45:00 2020-07-15 17:40:23  AUDCAD  1000.0   400.94  0.95411   \n",
       "3 2020-07-15 16:30:00 2020-07-15 18:04:46  AUDCAD  1000.0   402.90  0.95379   \n",
       "4 2020-07-15 16:30:00 2020-07-15 18:04:50  AUDCAD  1000.0   405.90  0.95377   \n",
       "5 2020-07-15 16:30:00 2020-07-15 18:07:53  AUDCAD  1000.0   408.94  0.95375   \n",
       "6 2020-07-15 16:30:00 2020-07-15 18:15:00  AUDCAD  1000.0   412.14  0.95375   \n",
       "\n",
       "     Price  \n",
       "2  0.95145  \n",
       "3  0.94973  \n",
       "4  0.94966  \n",
       "5  0.94942  \n",
       "6  0.94916  "
      ]
     },
     "execution_count": 3,
     "metadata": {},
     "output_type": "execute_result"
    }
   ],
   "source": [
    "test_frame = Preparation('Test_trader_data').Get.iloc[0:210,:]\n",
    "test_frame['Balance'] = test_frame['Profit'].cumsum().shift()\n",
    "important_data = test_frame.loc[:,['Time','Symbol','Volume','Balance','Price']].applymap(\n",
    "lambda x : np.nan if x == 0 else x\n",
    ").dropna()\n",
    "important_data.loc[:,'Volume'] = important_data.loc[:,'Volume'] * 100000\n",
    "important_data.head()"
   ]
  },
  {
   "cell_type": "code",
   "execution_count": 6,
   "id": "4589b80a",
   "metadata": {},
   "outputs": [
    {
     "data": {
      "text/plain": [
       "Time       2020-07-15 16:45:00\n",
       "Time       2020-07-15 18:22:29\n",
       "Symbol                  AUDCAD\n",
       "Volume                  1000.0\n",
       "Balance                 415.53\n",
       "Price                  0.95411\n",
       "Price                  0.94814\n",
       "Name: 7, dtype: object"
      ]
     },
     "execution_count": 6,
     "metadata": {},
     "output_type": "execute_result"
    }
   ],
   "source": [
    "important_data.iloc[5]"
   ]
  },
  {
   "cell_type": "code",
   "execution_count": 4,
   "id": "1640d96f",
   "metadata": {},
   "outputs": [],
   "source": [
    "DLD_frame = pd.DataFrame(\n",
    "    np.zeros([important_data.shape[0],2]),\n",
    "    columns=['D-Leverage','Position Duration']\n",
    ")\n",
    "\n",
    "for roW in np.arange(0,important_data.shape[0]):\n",
    "    DLD_frame.loc[:,'D-Leverage'].iloc[roW] = (\n",
    "        (\n",
    "            (((important_data.iloc[roW,:]['Volume'] * important_data.iloc[roW,:]['Price'][0]) * (\n",
    "                Comput_pipV(\n",
    "                    Pair_Currency = important_data.iloc[roW,:]['Symbol'],\n",
    "                    Target_time= important_data.iloc[roW,:]['Time'][0]\n",
    "                )\n",
    "            ))/important_data.iloc[roW,:]['Balance']) * (\n",
    "                Cal_volatil(\n",
    "                    Pair_Currency=important_data.iloc[roW,:]['Symbol'],\n",
    "                    Open_Posithon_TimeStamp=important_data.iloc[roW,:]['Time'][0],\n",
    "                    Close_Posithon_TimStamp=important_data.iloc[roW,:]['Time'][1]\n",
    "                )\n",
    "            )\n",
    "        )\n",
    "    )"
   ]
  },
  {
   "cell_type": "code",
   "execution_count": 4,
   "id": "50d028b8",
   "metadata": {
    "ExecuteTime": {
     "start_time": "2022-05-18T15:24:36.419Z"
    },
    "scrolled": true
   },
   "outputs": [],
   "source": [
    "DLD_frame = pd.DataFrame(\n",
    "    np.zeros([important_data.shape[0],2]),\n",
    "    columns=['D-Leverage','Position Duration']\n",
    ")\n",
    "\n",
    "for roW in np.arange(0,important_data.shape[0]):\n",
    "    DLD_frame.loc[:,'D-Leverage'].iloc[roW] = (\n",
    "        ((important_data.iloc[roW,:]['Volume'] * important_data.iloc[roW,:]['Price'][0]) * (\n",
    "            Comput_pipV(\n",
    "                Pair_Currency = important_data.iloc[roW,:]['Symbol'],\n",
    "                Target_time= important_data.iloc[roW,:]['Time'][0]\n",
    "            )\n",
    "        )) * (\n",
    "            Cal_volatil(\n",
    "                Pair_Currency=important_data.iloc[roW,:]['Symbol'],\n",
    "                Open_Posithon_TimeStamp=important_data.iloc[roW,:]['Time'][0],\n",
    "                Close_Posithon_TimStamp=important_data.iloc[roW,:]['Time'][1]\n",
    "            )\n",
    "        ) \n",
    "    )"
   ]
  },
  {
   "cell_type": "code",
   "execution_count": 7,
   "id": "b562ab91",
   "metadata": {},
   "outputs": [
    {
     "data": {
      "text/plain": [
       "<AxesSubplot:>"
      ]
     },
     "execution_count": 7,
     "metadata": {},
     "output_type": "execute_result"
    },
    {
     "data": {
      "image/png": "[encoded data removed]",
      "text/plain": [
       "<Figure size 432x288 with 1 Axes>"
      ]
     },
     "metadata": {
      "needs_background": "light"
     },
     "output_type": "display_data"
    }
   ],
   "source": [
    "DLD_frame['D-Leverage'].plot()"
   ]
  },
  {
   "cell_type": "code",
   "execution_count": 8,
   "id": "e86dca44",
   "metadata": {},
   "outputs": [
    {
     "data": {
      "text/html": [
       "<div>\n",
       "<style scoped>\n",
       "    .dataframe tbody tr th:only-of-type {\n",
       "        vertical-align: middle;\n",
       "    }\n",
       "\n",
       "    .dataframe tbody tr th {\n",
       "        vertical-align: top;\n",
       "    }\n",
       "\n",
       "    .dataframe thead th {\n",
       "        text-align: right;\n",
       "    }\n",
       "</style>\n",
       "<table border=\"1\" class=\"dataframe\">\n",
       "  <thead>\n",
       "    <tr style=\"text-align: right;\">\n",
       "      <th></th>\n",
       "      <th>Time</th>\n",
       "      <th>Time</th>\n",
       "      <th>Symbol</th>\n",
       "      <th>Volume</th>\n",
       "      <th>Balance</th>\n",
       "      <th>Price</th>\n",
       "      <th>Price</th>\n",
       "    </tr>\n",
       "  </thead>\n",
       "  <tbody>\n",
       "    <tr>\n",
       "      <th>2</th>\n",
       "      <td>2020-07-15 16:45:00</td>\n",
       "      <td>2020-07-15 17:40:23</td>\n",
       "      <td>AUDCAD</td>\n",
       "      <td>1000.0</td>\n",
       "      <td>400.94</td>\n",
       "      <td>0.95411</td>\n",
       "      <td>0.95145</td>\n",
       "    </tr>\n",
       "    <tr>\n",
       "      <th>3</th>\n",
       "      <td>2020-07-15 16:30:00</td>\n",
       "      <td>2020-07-15 18:04:46</td>\n",
       "      <td>AUDCAD</td>\n",
       "      <td>1000.0</td>\n",
       "      <td>402.90</td>\n",
       "      <td>0.95379</td>\n",
       "      <td>0.94973</td>\n",
       "    </tr>\n",
       "    <tr>\n",
       "      <th>4</th>\n",
       "      <td>2020-07-15 16:30:00</td>\n",
       "      <td>2020-07-15 18:04:50</td>\n",
       "      <td>AUDCAD</td>\n",
       "      <td>1000.0</td>\n",
       "      <td>405.90</td>\n",
       "      <td>0.95377</td>\n",
       "      <td>0.94966</td>\n",
       "    </tr>\n",
       "    <tr>\n",
       "      <th>5</th>\n",
       "      <td>2020-07-15 16:30:00</td>\n",
       "      <td>2020-07-15 18:07:53</td>\n",
       "      <td>AUDCAD</td>\n",
       "      <td>1000.0</td>\n",
       "      <td>408.94</td>\n",
       "      <td>0.95375</td>\n",
       "      <td>0.94942</td>\n",
       "    </tr>\n",
       "    <tr>\n",
       "      <th>6</th>\n",
       "      <td>2020-07-15 16:30:00</td>\n",
       "      <td>2020-07-15 18:15:00</td>\n",
       "      <td>AUDCAD</td>\n",
       "      <td>1000.0</td>\n",
       "      <td>412.14</td>\n",
       "      <td>0.95375</td>\n",
       "      <td>0.94916</td>\n",
       "    </tr>\n",
       "    <tr>\n",
       "      <th>...</th>\n",
       "      <td>...</td>\n",
       "      <td>...</td>\n",
       "      <td>...</td>\n",
       "      <td>...</td>\n",
       "      <td>...</td>\n",
       "      <td>...</td>\n",
       "      <td>...</td>\n",
       "    </tr>\n",
       "    <tr>\n",
       "      <th>204</th>\n",
       "      <td>2020-11-12 02:00:00</td>\n",
       "      <td>2020-11-13 00:30:00</td>\n",
       "      <td>NZDCAD</td>\n",
       "      <td>1000.0</td>\n",
       "      <td>1360.41</td>\n",
       "      <td>0.90117</td>\n",
       "      <td>0.89847</td>\n",
       "    </tr>\n",
       "    <tr>\n",
       "      <th>205</th>\n",
       "      <td>2020-11-12 02:00:04</td>\n",
       "      <td>2020-11-13 05:45:00</td>\n",
       "      <td>AUDNZD</td>\n",
       "      <td>1000.0</td>\n",
       "      <td>1362.47</td>\n",
       "      <td>1.05565</td>\n",
       "      <td>1.05911</td>\n",
       "    </tr>\n",
       "    <tr>\n",
       "      <th>206</th>\n",
       "      <td>2020-11-12 02:00:02</td>\n",
       "      <td>2020-11-13 06:45:02</td>\n",
       "      <td>AUDNZD</td>\n",
       "      <td>1000.0</td>\n",
       "      <td>1364.83</td>\n",
       "      <td>1.05557</td>\n",
       "      <td>1.06024</td>\n",
       "    </tr>\n",
       "    <tr>\n",
       "      <th>207</th>\n",
       "      <td>2020-11-11 05:15:01</td>\n",
       "      <td>2020-11-13 11:39:26</td>\n",
       "      <td>NZDCAD</td>\n",
       "      <td>1000.0</td>\n",
       "      <td>1368.01</td>\n",
       "      <td>0.89741</td>\n",
       "      <td>0.89502</td>\n",
       "    </tr>\n",
       "    <tr>\n",
       "      <th>209</th>\n",
       "      <td>2020-11-19 02:15:00</td>\n",
       "      <td>2020-11-19 02:44:30</td>\n",
       "      <td>AUDNZD</td>\n",
       "      <td>1000.0</td>\n",
       "      <td>1169.83</td>\n",
       "      <td>1.05407</td>\n",
       "      <td>1.05613</td>\n",
       "    </tr>\n",
       "  </tbody>\n",
       "</table>\n",
       "<p>205 rows × 7 columns</p>\n",
       "</div>"
      ],
      "text/plain": [
       "                   Time                Time  Symbol  Volume  Balance    Price  \\\n",
       "2   2020-07-15 16:45:00 2020-07-15 17:40:23  AUDCAD  1000.0   400.94  0.95411   \n",
       "3   2020-07-15 16:30:00 2020-07-15 18:04:46  AUDCAD  1000.0   402.90  0.95379   \n",
       "4   2020-07-15 16:30:00 2020-07-15 18:04:50  AUDCAD  1000.0   405.90  0.95377   \n",
       "5   2020-07-15 16:30:00 2020-07-15 18:07:53  AUDCAD  1000.0   408.94  0.95375   \n",
       "6   2020-07-15 16:30:00 2020-07-15 18:15:00  AUDCAD  1000.0   412.14  0.95375   \n",
       "..                  ...                 ...     ...     ...      ...      ...   \n",
       "204 2020-11-12 02:00:00 2020-11-13 00:30:00  NZDCAD  1000.0  1360.41  0.90117   \n",
       "205 2020-11-12 02:00:04 2020-11-13 05:45:00  AUDNZD  1000.0  1362.47  1.05565   \n",
       "206 2020-11-12 02:00:02 2020-11-13 06:45:02  AUDNZD  1000.0  1364.83  1.05557   \n",
       "207 2020-11-11 05:15:01 2020-11-13 11:39:26  NZDCAD  1000.0  1368.01  0.89741   \n",
       "209 2020-11-19 02:15:00 2020-11-19 02:44:30  AUDNZD  1000.0  1169.83  1.05407   \n",
       "\n",
       "       Price  \n",
       "2    0.95145  \n",
       "3    0.94973  \n",
       "4    0.94966  \n",
       "5    0.94942  \n",
       "6    0.94916  \n",
       "..       ...  \n",
       "204  0.89847  \n",
       "205  1.05911  \n",
       "206  1.06024  \n",
       "207  0.89502  \n",
       "209  1.05613  \n",
       "\n",
       "[205 rows x 7 columns]"
      ]
     },
     "execution_count": 8,
     "metadata": {},
     "output_type": "execute_result"
    }
   ],
   "source": [
    "important_data"
   ]
  },
  {
   "cell_type": "code",
   "execution_count": 6,
   "id": "29465e5e",
   "metadata": {},
   "outputs": [
    {
     "data": {
      "text/html": [
       "<div>\n",
       "<style scoped>\n",
       "    .dataframe tbody tr th:only-of-type {\n",
       "        vertical-align: middle;\n",
       "    }\n",
       "\n",
       "    .dataframe tbody tr th {\n",
       "        vertical-align: top;\n",
       "    }\n",
       "\n",
       "    .dataframe thead th {\n",
       "        text-align: right;\n",
       "    }\n",
       "</style>\n",
       "<table border=\"1\" class=\"dataframe\">\n",
       "  <thead>\n",
       "    <tr style=\"text-align: right;\">\n",
       "      <th></th>\n",
       "      <th>D-Leverage</th>\n",
       "      <th>Position Duration</th>\n",
       "    </tr>\n",
       "  </thead>\n",
       "  <tbody>\n",
       "    <tr>\n",
       "      <th>0</th>\n",
       "      <td>1.795863</td>\n",
       "      <td>0.0</td>\n",
       "    </tr>\n",
       "    <tr>\n",
       "      <th>1</th>\n",
       "      <td>1.590363</td>\n",
       "      <td>0.0</td>\n",
       "    </tr>\n",
       "    <tr>\n",
       "      <th>2</th>\n",
       "      <td>1.578576</td>\n",
       "      <td>0.0</td>\n",
       "    </tr>\n",
       "    <tr>\n",
       "      <th>3</th>\n",
       "      <td>1.554286</td>\n",
       "      <td>0.0</td>\n",
       "    </tr>\n",
       "    <tr>\n",
       "      <th>4</th>\n",
       "      <td>1.530294</td>\n",
       "      <td>0.0</td>\n",
       "    </tr>\n",
       "    <tr>\n",
       "      <th>...</th>\n",
       "      <td>...</td>\n",
       "      <td>...</td>\n",
       "    </tr>\n",
       "    <tr>\n",
       "      <th>200</th>\n",
       "      <td>0.502390</td>\n",
       "      <td>0.0</td>\n",
       "    </tr>\n",
       "    <tr>\n",
       "      <th>201</th>\n",
       "      <td>0.443575</td>\n",
       "      <td>0.0</td>\n",
       "    </tr>\n",
       "    <tr>\n",
       "      <th>202</th>\n",
       "      <td>0.478737</td>\n",
       "      <td>0.0</td>\n",
       "    </tr>\n",
       "    <tr>\n",
       "      <th>203</th>\n",
       "      <td>0.596930</td>\n",
       "      <td>0.0</td>\n",
       "    </tr>\n",
       "    <tr>\n",
       "      <th>204</th>\n",
       "      <td>0.554723</td>\n",
       "      <td>0.0</td>\n",
       "    </tr>\n",
       "  </tbody>\n",
       "</table>\n",
       "<p>205 rows × 2 columns</p>\n",
       "</div>"
      ],
      "text/plain": [
       "     D-Leverage  Position Duration\n",
       "0      1.795863                0.0\n",
       "1      1.590363                0.0\n",
       "2      1.578576                0.0\n",
       "3      1.554286                0.0\n",
       "4      1.530294                0.0\n",
       "..          ...                ...\n",
       "200    0.502390                0.0\n",
       "201    0.443575                0.0\n",
       "202    0.478737                0.0\n",
       "203    0.596930                0.0\n",
       "204    0.554723                0.0\n",
       "\n",
       "[205 rows x 2 columns]"
      ]
     },
     "execution_count": 6,
     "metadata": {},
     "output_type": "execute_result"
    }
   ],
   "source": [
    "DLD_frame"
   ]
  },
  {
   "cell_type": "code",
   "execution_count": null,
   "id": "f5814868",
   "metadata": {},
   "outputs": [],
   "source": []
  }
 ],
 "metadata": {
  "interpreter": {
   "hash": "b49a179447c713102a86e48951e79ee67e3e2437390edf611bc6f09fb413f32f"
  },
  "kernelspec": {
   "display_name": "Python 3.8.13 ('eval_env')",
   "language": "python",
   "name": "python3"
  },
  "language_info": {
   "codemirror_mode": {
    "name": "ipython",
    "version": 3
   },
   "file_extension": ".py",
   "mimetype": "text/x-python",
   "name": "python",
   "nbconvert_exporter": "python",
   "pygments_lexer": "ipython3",
   "version": "3.8.13"
  },
  "nbTranslate": {
   "displayLangs": [
    "*"
   ],
   "hotkey": "alt-t",
   "langInMainMenu": true,
   "sourceLang": "en",
   "targetLang": "fr",
   "useGoogleTranslate": true
  },
  "varInspector": {
   "cols": {
    "lenName": 16,
    "lenType": 16,
    "lenVar": 40
   },
   "kernels_config": {
    "python": {
     "delete_cmd_postfix": "",
     "delete_cmd_prefix": "del ",
     "library": "var_list.py",
     "varRefreshCmd": "print(var_dic_list())"
    },
    "r": {
     "delete_cmd_postfix": ") ",
     "delete_cmd_prefix": "rm(",
     "library": "var_list.r",
     "varRefreshCmd": "cat(var_dic_list()) "
    }
   },
   "types_to_exclude": [
    "module",
    "function",
    "builtin_function_or_method",
    "instance",
    "_Feature"
   ],
   "window_display": false
  }
 },
 "nbformat": 4,
 "nbformat_minor": 5
}
