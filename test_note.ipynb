{
 "cells": [
  {
   "cell_type": "code",
   "execution_count": 4,
   "metadata": {},
   "outputs": [],
   "source": [
    "import pandas as pd # DataFerame , csv read \n",
    "from os import listdir"
   ]
  },
  {
   "cell_type": "code",
   "execution_count": 22,
   "metadata": {},
   "outputs": [],
   "source": [
    "h = listdir('Traders csv data')\n"
   ]
  },
  {
   "cell_type": "code",
   "execution_count": 27,
   "metadata": {},
   "outputs": [],
   "source": [
    "csv = pd.read_csv('Traders csv data/'+h[15])"
   ]
  },
  {
   "cell_type": "code",
   "execution_count": 37,
   "metadata": {},
   "outputs": [
    {
     "data": {
      "text/html": [
       "<div>\n",
       "<style scoped>\n",
       "    .dataframe tbody tr th:only-of-type {\n",
       "        vertical-align: middle;\n",
       "    }\n",
       "\n",
       "    .dataframe tbody tr th {\n",
       "        vertical-align: top;\n",
       "    }\n",
       "\n",
       "    .dataframe thead th {\n",
       "        text-align: right;\n",
       "    }\n",
       "</style>\n",
       "<table border=\"1\" class=\"dataframe\">\n",
       "  <thead>\n",
       "    <tr style=\"text-align: right;\">\n",
       "      <th></th>\n",
       "      <th>Time;Type;Volume;Symbol;Price;Time;Price;Commission;Swap;Profit</th>\n",
       "    </tr>\n",
       "  </thead>\n",
       "  <tbody>\n",
       "    <tr>\n",
       "      <th>0</th>\n",
       "      <td>2022.04.05 10:53:05;Sell;0.02;EURJPY;135.057;2...</td>\n",
       "    </tr>\n",
       "    <tr>\n",
       "      <th>1</th>\n",
       "      <td>2022.04.05 10:53:04;Sell;0.02;EURJPY;135.057;2...</td>\n",
       "    </tr>\n",
       "    <tr>\n",
       "      <th>2</th>\n",
       "      <td>2022.04.05 10:21:24;Sell;0.02;EURJPY;134.753;2...</td>\n",
       "    </tr>\n",
       "    <tr>\n",
       "      <th>3</th>\n",
       "      <td>2022.04.05 10:21:23;Sell;0.02;EURJPY;134.753;2...</td>\n",
       "    </tr>\n",
       "    <tr>\n",
       "      <th>4</th>\n",
       "      <td>2022.04.05 10:09:18;Sell;0.02;EURUSD;1.09746;2...</td>\n",
       "    </tr>\n",
       "    <tr>\n",
       "      <th>...</th>\n",
       "      <td>...</td>\n",
       "    </tr>\n",
       "    <tr>\n",
       "      <th>713</th>\n",
       "      <td>2022.01.12 15:13:56;Buy;0.05;GBPUSD;1.36464;20...</td>\n",
       "    </tr>\n",
       "    <tr>\n",
       "      <th>714</th>\n",
       "      <td>2022.01.12 15:13:58;Buy;0.05;GBPUSD;1.36455;20...</td>\n",
       "    </tr>\n",
       "    <tr>\n",
       "      <th>715</th>\n",
       "      <td>2022.01.12 15:14:00;Buy;0.05;GBPUSD;1.36453999...</td>\n",
       "    </tr>\n",
       "    <tr>\n",
       "      <th>716</th>\n",
       "      <td>2022.01.12 15:14:01;Buy;0.05;GBPUSD;1.36452;20...</td>\n",
       "    </tr>\n",
       "    <tr>\n",
       "      <th>717</th>\n",
       "      <td>2022.01.11 15:12:12;Balance;;;;;;;;500</td>\n",
       "    </tr>\n",
       "  </tbody>\n",
       "</table>\n",
       "<p>718 rows × 1 columns</p>\n",
       "</div>"
      ],
      "text/plain": [
       "    Time;Type;Volume;Symbol;Price;Time;Price;Commission;Swap;Profit\n",
       "0    2022.04.05 10:53:05;Sell;0.02;EURJPY;135.057;2...             \n",
       "1    2022.04.05 10:53:04;Sell;0.02;EURJPY;135.057;2...             \n",
       "2    2022.04.05 10:21:24;Sell;0.02;EURJPY;134.753;2...             \n",
       "3    2022.04.05 10:21:23;Sell;0.02;EURJPY;134.753;2...             \n",
       "4    2022.04.05 10:09:18;Sell;0.02;EURUSD;1.09746;2...             \n",
       "..                                                 ...             \n",
       "713  2022.01.12 15:13:56;Buy;0.05;GBPUSD;1.36464;20...             \n",
       "714  2022.01.12 15:13:58;Buy;0.05;GBPUSD;1.36455;20...             \n",
       "715  2022.01.12 15:14:00;Buy;0.05;GBPUSD;1.36453999...             \n",
       "716  2022.01.12 15:14:01;Buy;0.05;GBPUSD;1.36452;20...             \n",
       "717             2022.01.11 15:12:12;Balance;;;;;;;;500             \n",
       "\n",
       "[718 rows x 1 columns]"
      ]
     },
     "execution_count": 37,
     "metadata": {},
     "output_type": "execute_result"
    }
   ],
   "source": [
    "csv"
   ]
  },
  {
   "cell_type": "code",
   "execution_count": 46,
   "metadata": {},
   "outputs": [
    {
     "data": {
      "text/plain": [
       "['Time',\n",
       " 'Type',\n",
       " 'Volume',\n",
       " 'Symbol',\n",
       " 'Price',\n",
       " 'Time',\n",
       " 'Price',\n",
       " 'Commission',\n",
       " 'Swap',\n",
       " 'Profit']"
      ]
     },
     "execution_count": 46,
     "metadata": {},
     "output_type": "execute_result"
    }
   ],
   "source": [
    "csv.columns.values[0].split(';')"
   ]
  },
  {
   "cell_type": "code",
   "execution_count": 48,
   "metadata": {},
   "outputs": [
    {
     "data": {
      "text/plain": [
       "['2022.01.11 15:12:12', 'Balance', '', '', '', '', '', '', '', '500']"
      ]
     },
     "execution_count": 48,
     "metadata": {},
     "output_type": "execute_result"
    }
   ],
   "source": [
    "csv.iloc[717,0].split(';')\n"
   ]
  },
  {
   "cell_type": "code",
   "execution_count": 50,
   "metadata": {},
   "outputs": [],
   "source": [
    "h = {}\n",
    "for i in csv.index:\n",
    "    h[i] = csv.iloc[i,0].split(';') \n",
    "    "
   ]
  },
  {
   "cell_type": "code",
   "execution_count": 53,
   "metadata": {},
   "outputs": [],
   "source": [
    "g = pd.DataFrame(\n",
    "    h , index=csv.columns.values[0].split(';')\n",
    ")"
   ]
  },
  {
   "cell_type": "code",
   "execution_count": 57,
   "metadata": {},
   "outputs": [],
   "source": [
    "gg = pd.DataFrame(\n",
    "    g.transpose(),\n",
    "    columns=g.index\n",
    ")"
   ]
  },
  {
   "cell_type": "code",
   "execution_count": 62,
   "metadata": {},
   "outputs": [
    {
     "data": {
      "text/html": [
       "<div>\n",
       "<style scoped>\n",
       "    .dataframe tbody tr th:only-of-type {\n",
       "        vertical-align: middle;\n",
       "    }\n",
       "\n",
       "    .dataframe tbody tr th {\n",
       "        vertical-align: top;\n",
       "    }\n",
       "\n",
       "    .dataframe thead th {\n",
       "        text-align: right;\n",
       "    }\n",
       "</style>\n",
       "<table border=\"1\" class=\"dataframe\">\n",
       "  <thead>\n",
       "    <tr style=\"text-align: right;\">\n",
       "      <th></th>\n",
       "      <th>Time</th>\n",
       "      <th>Type</th>\n",
       "      <th>Volume</th>\n",
       "      <th>Symbol</th>\n",
       "      <th>Price</th>\n",
       "      <th>Time</th>\n",
       "      <th>Price</th>\n",
       "      <th>Commission</th>\n",
       "      <th>Swap</th>\n",
       "      <th>Profit</th>\n",
       "    </tr>\n",
       "  </thead>\n",
       "  <tbody>\n",
       "    <tr>\n",
       "      <th>0</th>\n",
       "      <td>2022.04.05 10:53:05</td>\n",
       "      <td>Sell</td>\n",
       "      <td>0.02</td>\n",
       "      <td>EURJPY</td>\n",
       "      <td>135.057</td>\n",
       "      <td>2022.04.05 16:00:28</td>\n",
       "      <td>134.681</td>\n",
       "      <td></td>\n",
       "      <td></td>\n",
       "      <td>6.13</td>\n",
       "    </tr>\n",
       "    <tr>\n",
       "      <th>1</th>\n",
       "      <td>2022.04.05 10:53:04</td>\n",
       "      <td>Sell</td>\n",
       "      <td>0.02</td>\n",
       "      <td>EURJPY</td>\n",
       "      <td>135.057</td>\n",
       "      <td>2022.04.05 16:00:24</td>\n",
       "      <td>134.681</td>\n",
       "      <td></td>\n",
       "      <td></td>\n",
       "      <td>6.13</td>\n",
       "    </tr>\n",
       "    <tr>\n",
       "      <th>2</th>\n",
       "      <td>2022.04.05 10:21:24</td>\n",
       "      <td>Sell</td>\n",
       "      <td>0.02</td>\n",
       "      <td>EURJPY</td>\n",
       "      <td>134.753</td>\n",
       "      <td>2022.04.05 16:00:23</td>\n",
       "      <td>134.688</td>\n",
       "      <td></td>\n",
       "      <td></td>\n",
       "      <td>1.06</td>\n",
       "    </tr>\n",
       "    <tr>\n",
       "      <th>3</th>\n",
       "      <td>2022.04.05 10:21:23</td>\n",
       "      <td>Sell</td>\n",
       "      <td>0.02</td>\n",
       "      <td>EURJPY</td>\n",
       "      <td>134.753</td>\n",
       "      <td>2022.04.05 16:00:21</td>\n",
       "      <td>134.675</td>\n",
       "      <td></td>\n",
       "      <td></td>\n",
       "      <td>1.27</td>\n",
       "    </tr>\n",
       "    <tr>\n",
       "      <th>4</th>\n",
       "      <td>2022.04.05 10:09:18</td>\n",
       "      <td>Sell</td>\n",
       "      <td>0.02</td>\n",
       "      <td>EURUSD</td>\n",
       "      <td>1.09746</td>\n",
       "      <td>2022.04.05 13:42:10</td>\n",
       "      <td>1.09616</td>\n",
       "      <td></td>\n",
       "      <td></td>\n",
       "      <td>2.6</td>\n",
       "    </tr>\n",
       "    <tr>\n",
       "      <th>...</th>\n",
       "      <td>...</td>\n",
       "      <td>...</td>\n",
       "      <td>...</td>\n",
       "      <td>...</td>\n",
       "      <td>...</td>\n",
       "      <td>...</td>\n",
       "      <td>...</td>\n",
       "      <td>...</td>\n",
       "      <td>...</td>\n",
       "      <td>...</td>\n",
       "    </tr>\n",
       "    <tr>\n",
       "      <th>713</th>\n",
       "      <td>2022.01.12 15:13:56</td>\n",
       "      <td>Buy</td>\n",
       "      <td>0.05</td>\n",
       "      <td>GBPUSD</td>\n",
       "      <td>1.36464</td>\n",
       "      <td>2022.01.13 10:35:36</td>\n",
       "      <td>1.3740700000000001</td>\n",
       "      <td></td>\n",
       "      <td>-0.65</td>\n",
       "      <td>47.15</td>\n",
       "    </tr>\n",
       "    <tr>\n",
       "      <th>714</th>\n",
       "      <td>2022.01.12 15:13:58</td>\n",
       "      <td>Buy</td>\n",
       "      <td>0.05</td>\n",
       "      <td>GBPUSD</td>\n",
       "      <td>1.36455</td>\n",
       "      <td>2022.01.13 10:35:34</td>\n",
       "      <td>1.37413</td>\n",
       "      <td></td>\n",
       "      <td>-0.65</td>\n",
       "      <td>47.9</td>\n",
       "    </tr>\n",
       "    <tr>\n",
       "      <th>715</th>\n",
       "      <td>2022.01.12 15:14:00</td>\n",
       "      <td>Buy</td>\n",
       "      <td>0.05</td>\n",
       "      <td>GBPUSD</td>\n",
       "      <td>1.3645399999999999</td>\n",
       "      <td>2022.01.13 10:35:31</td>\n",
       "      <td>1.37413</td>\n",
       "      <td></td>\n",
       "      <td>-0.65</td>\n",
       "      <td>47.95</td>\n",
       "    </tr>\n",
       "    <tr>\n",
       "      <th>716</th>\n",
       "      <td>2022.01.12 15:14:01</td>\n",
       "      <td>Buy</td>\n",
       "      <td>0.05</td>\n",
       "      <td>GBPUSD</td>\n",
       "      <td>1.36452</td>\n",
       "      <td>2022.01.13 10:35:29</td>\n",
       "      <td>1.37412</td>\n",
       "      <td></td>\n",
       "      <td>-0.65</td>\n",
       "      <td>48</td>\n",
       "    </tr>\n",
       "    <tr>\n",
       "      <th>717</th>\n",
       "      <td>2022.01.11 15:12:12</td>\n",
       "      <td>Balance</td>\n",
       "      <td></td>\n",
       "      <td></td>\n",
       "      <td></td>\n",
       "      <td></td>\n",
       "      <td></td>\n",
       "      <td></td>\n",
       "      <td></td>\n",
       "      <td>500</td>\n",
       "    </tr>\n",
       "  </tbody>\n",
       "</table>\n",
       "<p>718 rows × 10 columns</p>\n",
       "</div>"
      ],
      "text/plain": [
       "                    Time     Type Volume  Symbol               Price  \\\n",
       "0    2022.04.05 10:53:05     Sell   0.02  EURJPY             135.057   \n",
       "1    2022.04.05 10:53:04     Sell   0.02  EURJPY             135.057   \n",
       "2    2022.04.05 10:21:24     Sell   0.02  EURJPY             134.753   \n",
       "3    2022.04.05 10:21:23     Sell   0.02  EURJPY             134.753   \n",
       "4    2022.04.05 10:09:18     Sell   0.02  EURUSD             1.09746   \n",
       "..                   ...      ...    ...     ...                 ...   \n",
       "713  2022.01.12 15:13:56      Buy   0.05  GBPUSD             1.36464   \n",
       "714  2022.01.12 15:13:58      Buy   0.05  GBPUSD             1.36455   \n",
       "715  2022.01.12 15:14:00      Buy   0.05  GBPUSD  1.3645399999999999   \n",
       "716  2022.01.12 15:14:01      Buy   0.05  GBPUSD             1.36452   \n",
       "717  2022.01.11 15:12:12  Balance                                      \n",
       "\n",
       "                    Time               Price Commission   Swap Profit  \n",
       "0    2022.04.05 16:00:28             134.681                     6.13  \n",
       "1    2022.04.05 16:00:24             134.681                     6.13  \n",
       "2    2022.04.05 16:00:23             134.688                     1.06  \n",
       "3    2022.04.05 16:00:21             134.675                     1.27  \n",
       "4    2022.04.05 13:42:10             1.09616                      2.6  \n",
       "..                   ...                 ...        ...    ...    ...  \n",
       "713  2022.01.13 10:35:36  1.3740700000000001             -0.65  47.15  \n",
       "714  2022.01.13 10:35:34             1.37413             -0.65   47.9  \n",
       "715  2022.01.13 10:35:31             1.37413             -0.65  47.95  \n",
       "716  2022.01.13 10:35:29             1.37412             -0.65     48  \n",
       "717                                                               500  \n",
       "\n",
       "[718 rows x 10 columns]"
      ]
     },
     "execution_count": 62,
     "metadata": {},
     "output_type": "execute_result"
    }
   ],
   "source": [
    "gg"
   ]
  },
  {
   "cell_type": "code",
   "execution_count": 47,
   "metadata": {},
   "outputs": [
    {
     "name": "stdout",
     "output_type": "stream",
     "text": [
      "Time\n",
      "Type\n",
      "Volume\n",
      "Symbol\n",
      "Price\n",
      "Time\n",
      "Price\n",
      "Commission\n",
      "Swap\n",
      "Profit\n"
     ]
    }
   ],
   "source": [
    "for i in  csv.columns.values[0].split(';'):\n",
    "    "
   ]
  },
  {
   "cell_type": "code",
   "execution_count": null,
   "metadata": {},
   "outputs": [],
   "source": []
  }
 ],
 "metadata": {
  "interpreter": {
   "hash": "6143944bc5d1eb03b2e194e2e5c8b0df84ac07267b4dffb47d55a24d72bd82da"
  },
  "kernelspec": {
   "display_name": "Python 3.8.13 ('DFO-Portfolio')",
   "language": "python",
   "name": "python3"
  },
  "language_info": {
   "codemirror_mode": {
    "name": "ipython",
    "version": 3
   },
   "file_extension": ".py",
   "mimetype": "text/x-python",
   "name": "python",
   "nbconvert_exporter": "python",
   "pygments_lexer": "ipython3",
   "version": "3.8.13"
  },
  "orig_nbformat": 4
 },
 "nbformat": 4,
 "nbformat_minor": 2
}
