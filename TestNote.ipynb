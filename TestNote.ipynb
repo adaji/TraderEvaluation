{
 "cells": [
  {
   "cell_type": "markdown",
   "id": "183292d8",
   "metadata": {},
   "source": [
    "# Get Test Trader Data"
   ]
  },
  {
   "cell_type": "code",
   "execution_count": 1,
   "id": "1a3d4f6e",
   "metadata": {},
   "outputs": [],
   "source": [
    "from Evaluation_Attributes import Comput_pipV "
   ]
  },
  {
   "cell_type": "code",
   "execution_count": 3,
   "id": "0a31f491",
   "metadata": {
    "ExecuteTime": {
     "end_time": "2022-05-13T11:30:53.810651Z",
     "start_time": "2022-05-13T11:30:53.786707Z"
    }
   },
   "outputs": [],
   "source": [
    "from Data_Operation import Preparation"
   ]
  },
  {
   "cell_type": "code",
   "execution_count": 7,
   "id": "e95cc877",
   "metadata": {},
   "outputs": [],
   "source": [
    "Preparation(folder_path='Test_trader_data').Get\n"
   ]
  },
  {
   "cell_type": "markdown",
   "id": "6aedbbc4",
   "metadata": {},
   "source": [
    "# Get Market Data "
   ]
  },
  {
   "cell_type": "code",
   "execution_count": 1,
   "id": "00100acb",
   "metadata": {},
   "outputs": [],
   "source": [
    "from Data_Operation import Market_Data"
   ]
  },
  {
   "cell_type": "code",
   "execution_count": 2,
   "id": "f8e7abef",
   "metadata": {},
   "outputs": [],
   "source": [
    "ETHUSD = Market_Data(\n",
    "    Symbol='ETHUSD',\n",
    "    Start_Date= \"2022-01-01T00:00:00.000\",\n",
    "    End_Data=\"2022-02-01T00:00:00.000\",\n",
    "    Interval=\"1H\"\n",
    ").send_post_request"
   ]
  },
  {
   "cell_type": "code",
   "execution_count": 3,
   "id": "7f9d8db5",
   "metadata": {},
   "outputs": [
    {
     "data": {
      "text/html": [
       "<div>\n",
       "<style scoped>\n",
       "    .dataframe tbody tr th:only-of-type {\n",
       "        vertical-align: middle;\n",
       "    }\n",
       "\n",
       "    .dataframe tbody tr th {\n",
       "        vertical-align: top;\n",
       "    }\n",
       "\n",
       "    .dataframe thead th {\n",
       "        text-align: right;\n",
       "    }\n",
       "</style>\n",
       "<table border=\"1\" class=\"dataframe\">\n",
       "  <thead>\n",
       "    <tr style=\"text-align: right;\">\n",
       "      <th></th>\n",
       "      <th>time</th>\n",
       "      <th>open</th>\n",
       "      <th>high</th>\n",
       "      <th>low</th>\n",
       "      <th>close</th>\n",
       "      <th>volume</th>\n",
       "    </tr>\n",
       "  </thead>\n",
       "  <tbody>\n",
       "    <tr>\n",
       "      <th>0</th>\n",
       "      <td>2022-01-01 00:00:00</td>\n",
       "      <td>3677.6</td>\n",
       "      <td>3729.00</td>\n",
       "      <td>3677.60</td>\n",
       "      <td>3723.0</td>\n",
       "      <td>495.8525</td>\n",
       "    </tr>\n",
       "    <tr>\n",
       "      <th>1</th>\n",
       "      <td>2022-01-01 01:00:00</td>\n",
       "      <td>3723.9</td>\n",
       "      <td>3747.90</td>\n",
       "      <td>3715.21</td>\n",
       "      <td>3725.6</td>\n",
       "      <td>602.2741</td>\n",
       "    </tr>\n",
       "    <tr>\n",
       "      <th>2</th>\n",
       "      <td>2022-01-01 02:00:00</td>\n",
       "      <td>3725.6</td>\n",
       "      <td>3736.66</td>\n",
       "      <td>3722.70</td>\n",
       "      <td>3728.5</td>\n",
       "      <td>378.6126</td>\n",
       "    </tr>\n",
       "    <tr>\n",
       "      <th>3</th>\n",
       "      <td>2022-01-01 03:00:00</td>\n",
       "      <td>3728.3</td>\n",
       "      <td>3736.20</td>\n",
       "      <td>3722.50</td>\n",
       "      <td>3724.9</td>\n",
       "      <td>85.6928</td>\n",
       "    </tr>\n",
       "    <tr>\n",
       "      <th>4</th>\n",
       "      <td>2022-01-01 04:00:00</td>\n",
       "      <td>3725.8</td>\n",
       "      <td>3727.22</td>\n",
       "      <td>3708.10</td>\n",
       "      <td>3708.6</td>\n",
       "      <td>429.0018</td>\n",
       "    </tr>\n",
       "    <tr>\n",
       "      <th>...</th>\n",
       "      <td>...</td>\n",
       "      <td>...</td>\n",
       "      <td>...</td>\n",
       "      <td>...</td>\n",
       "      <td>...</td>\n",
       "      <td>...</td>\n",
       "    </tr>\n",
       "    <tr>\n",
       "      <th>740</th>\n",
       "      <td>2022-01-31 20:00:00</td>\n",
       "      <td>2676.7</td>\n",
       "      <td>2697.10</td>\n",
       "      <td>2664.30</td>\n",
       "      <td>2687.4</td>\n",
       "      <td>1193.0409</td>\n",
       "    </tr>\n",
       "    <tr>\n",
       "      <th>741</th>\n",
       "      <td>2022-01-31 21:00:00</td>\n",
       "      <td>2687.4</td>\n",
       "      <td>2690.90</td>\n",
       "      <td>2675.70</td>\n",
       "      <td>2681.4</td>\n",
       "      <td>429.3775</td>\n",
       "    </tr>\n",
       "    <tr>\n",
       "      <th>742</th>\n",
       "      <td>2022-01-31 22:00:00</td>\n",
       "      <td>2682.4</td>\n",
       "      <td>2707.90</td>\n",
       "      <td>2680.30</td>\n",
       "      <td>2682.1</td>\n",
       "      <td>879.4058</td>\n",
       "    </tr>\n",
       "    <tr>\n",
       "      <th>743</th>\n",
       "      <td>2022-01-31 23:00:00</td>\n",
       "      <td>2682.6</td>\n",
       "      <td>2692.30</td>\n",
       "      <td>2680.10</td>\n",
       "      <td>2688.8</td>\n",
       "      <td>505.3292</td>\n",
       "    </tr>\n",
       "    <tr>\n",
       "      <th>744</th>\n",
       "      <td>2022-02-01 00:00:00</td>\n",
       "      <td>2689.6</td>\n",
       "      <td>2690.20</td>\n",
       "      <td>2685.10</td>\n",
       "      <td>2685.4</td>\n",
       "      <td>18.6675</td>\n",
       "    </tr>\n",
       "  </tbody>\n",
       "</table>\n",
       "<p>745 rows × 6 columns</p>\n",
       "</div>"
      ],
      "text/plain": [
       "                   time    open     high      low   close     volume\n",
       "0   2022-01-01 00:00:00  3677.6  3729.00  3677.60  3723.0   495.8525\n",
       "1   2022-01-01 01:00:00  3723.9  3747.90  3715.21  3725.6   602.2741\n",
       "2   2022-01-01 02:00:00  3725.6  3736.66  3722.70  3728.5   378.6126\n",
       "3   2022-01-01 03:00:00  3728.3  3736.20  3722.50  3724.9    85.6928\n",
       "4   2022-01-01 04:00:00  3725.8  3727.22  3708.10  3708.6   429.0018\n",
       "..                  ...     ...      ...      ...     ...        ...\n",
       "740 2022-01-31 20:00:00  2676.7  2697.10  2664.30  2687.4  1193.0409\n",
       "741 2022-01-31 21:00:00  2687.4  2690.90  2675.70  2681.4   429.3775\n",
       "742 2022-01-31 22:00:00  2682.4  2707.90  2680.30  2682.1   879.4058\n",
       "743 2022-01-31 23:00:00  2682.6  2692.30  2680.10  2688.8   505.3292\n",
       "744 2022-02-01 00:00:00  2689.6  2690.20  2685.10  2685.4    18.6675\n",
       "\n",
       "[745 rows x 6 columns]"
      ]
     },
     "execution_count": 3,
     "metadata": {},
     "output_type": "execute_result"
    }
   ],
   "source": [
    "ETHUSD"
   ]
  },
  {
   "cell_type": "markdown",
   "id": "6692e9b4",
   "metadata": {},
   "source": [
    "# Duration"
   ]
  },
  {
   "cell_type": "code",
   "execution_count": 8,
   "id": "9d7ace3f",
   "metadata": {},
   "outputs": [],
   "source": [
    "from Evaluation_Attributes import Duration"
   ]
  },
  {
   "cell_type": "code",
   "execution_count": 19,
   "id": "49c1043a",
   "metadata": {},
   "outputs": [
    {
     "data": {
      "image/png": "[encoded data removed]",
      "text/plain": [
       "<Figure size 432x288 with 1 Axes>"
      ]
     },
     "metadata": {},
     "output_type": "display_data"
    }
   ],
   "source": [
    "data = data_set.Get\n",
    "Duration(data).plot"
   ]
  },
  {
   "cell_type": "code",
   "execution_count": 20,
   "id": "7d83226f",
   "metadata": {},
   "outputs": [
    {
     "data": {
      "text/html": [
       "<div>\n",
       "<style scoped>\n",
       "    .dataframe tbody tr th:only-of-type {\n",
       "        vertical-align: middle;\n",
       "    }\n",
       "\n",
       "    .dataframe tbody tr th {\n",
       "        vertical-align: top;\n",
       "    }\n",
       "\n",
       "    .dataframe thead th {\n",
       "        text-align: right;\n",
       "    }\n",
       "</style>\n",
       "<table border=\"1\" class=\"dataframe\">\n",
       "  <thead>\n",
       "    <tr style=\"text-align: right;\">\n",
       "      <th></th>\n",
       "      <th>Position Duration (in minute)</th>\n",
       "      <th>Position Returns (in pip)</th>\n",
       "    </tr>\n",
       "  </thead>\n",
       "  <tbody>\n",
       "    <tr>\n",
       "      <th>0</th>\n",
       "      <td>398.88</td>\n",
       "      <td>0.044228</td>\n",
       "    </tr>\n",
       "    <tr>\n",
       "      <th>1</th>\n",
       "      <td>716.38</td>\n",
       "      <td>0.566140</td>\n",
       "    </tr>\n",
       "    <tr>\n",
       "      <th>2</th>\n",
       "      <td>4261.57</td>\n",
       "      <td>0.370582</td>\n",
       "    </tr>\n",
       "    <tr>\n",
       "      <th>3</th>\n",
       "      <td>95.12</td>\n",
       "      <td>0.073727</td>\n",
       "    </tr>\n",
       "    <tr>\n",
       "      <th>4</th>\n",
       "      <td>235.42</td>\n",
       "      <td>0.371466</td>\n",
       "    </tr>\n",
       "    <tr>\n",
       "      <th>...</th>\n",
       "      <td>...</td>\n",
       "      <td>...</td>\n",
       "    </tr>\n",
       "    <tr>\n",
       "      <th>208</th>\n",
       "      <td>273.23</td>\n",
       "      <td>0.049836</td>\n",
       "    </tr>\n",
       "    <tr>\n",
       "      <th>209</th>\n",
       "      <td>889.48</td>\n",
       "      <td>-1.074547</td>\n",
       "    </tr>\n",
       "    <tr>\n",
       "      <th>210</th>\n",
       "      <td>45.85</td>\n",
       "      <td>0.356431</td>\n",
       "    </tr>\n",
       "    <tr>\n",
       "      <th>211</th>\n",
       "      <td>173.95</td>\n",
       "      <td>0.044121</td>\n",
       "    </tr>\n",
       "    <tr>\n",
       "      <th>212</th>\n",
       "      <td>113.25</td>\n",
       "      <td>0.137203</td>\n",
       "    </tr>\n",
       "  </tbody>\n",
       "</table>\n",
       "<p>213 rows × 2 columns</p>\n",
       "</div>"
      ],
      "text/plain": [
       "     Position Duration (in minute)  Position Returns (in pip)\n",
       "0                           398.88                   0.044228\n",
       "1                           716.38                   0.566140\n",
       "2                          4261.57                   0.370582\n",
       "3                            95.12                   0.073727\n",
       "4                           235.42                   0.371466\n",
       "..                             ...                        ...\n",
       "208                         273.23                   0.049836\n",
       "209                         889.48                  -1.074547\n",
       "210                          45.85                   0.356431\n",
       "211                         173.95                   0.044121\n",
       "212                         113.25                   0.137203\n",
       "\n",
       "[213 rows x 2 columns]"
      ]
     },
     "execution_count": 20,
     "metadata": {},
     "output_type": "execute_result"
    }
   ],
   "source": [
    "Duration(data).Duration_data"
   ]
  }
 ],
 "metadata": {
  "interpreter": {
   "hash": "b49a179447c713102a86e48951e79ee67e3e2437390edf611bc6f09fb413f32f"
  },
  "kernelspec": {
   "display_name": "Python 3.8.13 ('eval_env')",
   "language": "python",
   "name": "python3"
  },
  "language_info": {
   "codemirror_mode": {
    "name": "ipython",
    "version": 3
   },
   "file_extension": ".py",
   "mimetype": "text/x-python",
   "name": "python",
   "nbconvert_exporter": "python",
   "pygments_lexer": "ipython3",
   "version": "3.8.13"
  },
  "nbTranslate": {
   "displayLangs": [
    "*"
   ],
   "hotkey": "alt-t",
   "langInMainMenu": true,
   "sourceLang": "en",
   "targetLang": "fr",
   "useGoogleTranslate": true
  },
  "varInspector": {
   "cols": {
    "lenName": 16,
    "lenType": 16,
    "lenVar": 40
   },
   "kernels_config": {
    "python": {
     "delete_cmd_postfix": "",
     "delete_cmd_prefix": "del ",
     "library": "var_list.py",
     "varRefreshCmd": "print(var_dic_list())"
    },
    "r": {
     "delete_cmd_postfix": ") ",
     "delete_cmd_prefix": "rm(",
     "library": "var_list.r",
     "varRefreshCmd": "cat(var_dic_list()) "
    }
   },
   "types_to_exclude": [
    "module",
    "function",
    "builtin_function_or_method",
    "instance",
    "_Feature"
   ],
   "window_display": false
  }
 },
 "nbformat": 4,
 "nbformat_minor": 5
}
